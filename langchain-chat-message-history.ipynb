{
 "cells": [
  {
   "cell_type": "code",
   "execution_count": null,
   "id": "65535bd4",
   "metadata": {},
   "outputs": [
    {
     "name": "stdout",
     "output_type": "stream",
     "text": [
      "SystemMessage : 你是一名乐于助人的助教。\n",
      "HumanMessage : 你好，帮我讲下逻辑回归。\n",
      "AIMessage : 当然，可以从损失函数和决策边界开始……\n"
     ]
    }
   ],
   "source": [
    "from langchain.memory import ChatMessageHistory\n",
    "from langchain.schema import SystemMessage, HumanMessage, AIMessage\n",
    "\n",
    "history = ChatMessageHistory()\n",
    "\n",
    "# 追加消息\n",
    "history.add_message(SystemMessage(content=\"你是一名乐于助人的助教。\"))\n",
    "# 等价于add_message(HumanMessage(content=\"你好，帮我讲下逻辑回归。\"))\n",
    "history.add_user_message(\"你好，帮我讲下逻辑回归。\")\n",
    "history.add_ai_message(\"当然，可以从损失函数和决策边界开始……\")\n",
    "\n",
    "# 读取与遍历\n",
    "for msg in history.messages:\n",
    "    print(type(msg).__name__, \":\", msg.content)\n",
    "\n",
    "# 清空\n",
    "history.clear()"
   ]
  }
 ],
 "metadata": {
  "kernelspec": {
   "display_name": ".venv",
   "language": "python",
   "name": "python3"
  },
  "language_info": {
   "codemirror_mode": {
    "name": "ipython",
    "version": 3
   },
   "file_extension": ".py",
   "mimetype": "text/x-python",
   "name": "python",
   "nbconvert_exporter": "python",
   "pygments_lexer": "ipython3",
   "version": "3.12.9"
  }
 },
 "nbformat": 4,
 "nbformat_minor": 5
}
