{
 "cells": [
  {
   "cell_type": "code",
   "execution_count": null,
   "id": "844fe6a0",
   "metadata": {},
   "outputs": [
    {
     "name": "stdout",
     "output_type": "stream",
     "text": [
      "content='ATP stands for **adenosine triphosphate**. It is a molecule that serves as the primary **energy currency** of cells in all living organisms.\\n\\n### Structure:\\nATP is composed of:\\n- **Adenine** (a nitrogenous base),\\n- **Ribose** (a five-carbon sugar), and\\n- **Three phosphate groups** linked in a chain.\\n\\n### Function:\\n- ATP stores and transfers energy within cells.\\n- When a cell needs energy, it breaks the bond between the second and third phosphate groups through a process called **hydrolysis**, converting ATP into **ADP (adenosine diphosphate)** and an inorganic phosphate (Pi), releasing energy in the process:\\n  \\n  **ATP → ADP + Pi + energy**\\n\\n- This energy powers essential cellular processes such as:\\n  - Muscle contraction\\n  - Nerve impulse propagation\\n  - Chemical synthesis (e.g., building proteins or DNA)\\n  - Active transport across cell membranes\\n\\n### Production:\\nATP is produced primarily through:\\n- **Cellular respiration** in mitochondria (in eukaryotes),\\n- **Photosynthesis** in plant chloroplasts,\\n- **Fermentation** (in the absence of oxygen).\\n\\nIn summary, ATP is essential for life—it’s the immediate source of energy that drives nearly all cellular activities.' additional_kwargs={'refusal': None} response_metadata={'token_usage': {'completion_tokens': 275, 'prompt_tokens': 48, 'total_tokens': 323, 'completion_tokens_details': None, 'prompt_tokens_details': None}, 'model_name': 'qwen3-max', 'system_fingerprint': None, 'id': 'chatcmpl-9223bf70-be5e-41c3-adce-31f24fc9cccb', 'service_tier': None, 'finish_reason': 'stop', 'logprobs': None} id='run--25783a5d-dae1-4080-a7ad-51495cd147f2-0' usage_metadata={'input_tokens': 48, 'output_tokens': 275, 'total_tokens': 323, 'input_token_details': {}, 'output_token_details': {}}\n"
     ]
    }
   ],
   "source": [
    "from dotenv import load_dotenv\n",
    "from langchain_openai import ChatOpenAI\n",
    "from langchain_core.prompts import ChatPromptTemplate, MessagesPlaceholder\n",
    "import os\n",
    "\n",
    "load_dotenv()\n",
    "llm = ChatOpenAI(\n",
    "    api_key=os.getenv(\"DASHSCOPE_API_KEY\"),\n",
    "    base_url=\"https://dashscope.aliyuncs.com/compatible-mode/v1\",\n",
    "    model=\"qwen-plus\",  # 此处以qwen-plus为例，您可按需更换模型名称。模型列表：https://help.aliyun.com/zh/model-studio/getting-started/models\n",
    ")\n",
    "# 提示词模板\n",
    "prompt_template = ChatPromptTemplate.from_messages([\n",
    "    (\"system\", \"You are a helpful assistant, willing to answer as many questions as possible. The chat history provided contains relevant information about the user you are conversing with.\"),\n",
    "    MessagesPlaceholder(variable_name=\"history\", optional=True),\n",
    "    (\"human\", \"{input}\")\n",
    "])\n",
    "chain = prompt_template | llm\n",
    "resp = chain.invoke({\"input\": \"what is ATP?\"})\n",
    "print(resp)"
   ]
  },
  {
   "cell_type": "code",
   "execution_count": null,
   "id": "f7708549",
   "metadata": {},
   "outputs": [],
   "source": [
    "# 存储联调记录（可选存储方式: 内存，DB，redis）,下面先使用内存方式\n",
    "# key为session_id\n",
    "from langchain_core.chat_history import InMemoryChatMessageHistory, SQLChatMessageHistory\n",
    "store = {} \n",
    "\n",
    "def get_session_history(session_id: str):\n",
    "    if session_id not in store:\n",
    "        store[session_id] = InMemoryChatMessageHistory()\n",
    "    return store[session_id]\n",
    "\n",
    "# 数据库的版本\n",
    "# def get_session_history(session_id: str) -> list:\n",
    "#     return SQLChatMessageHistory(\n",
    "#         session_id=session_id,\n",
    "#         connection_string=\"sqlite:///chat_history.db\",\n",
    "#     )"
   ]
  },
  {
   "cell_type": "code",
   "execution_count": 13,
   "id": "3d9f1232",
   "metadata": {},
   "outputs": [
    {
     "name": "stdout",
     "output_type": "stream",
     "text": [
      "**Cosine** is a fundamental trigonometric function in mathematics, often abbreviated as **cos**. It relates the angles of a right triangle to the ratios of its sides.\n",
      "\n",
      "### In a Right Triangle:\n",
      "For a given **acute angle** (let’s call it θ) in a right triangle:\n",
      "\n",
      "> **cos(θ) = adjacent side / hypotenuse**\n",
      "\n",
      "- The **adjacent side** is the side next to the angle θ (but not the hypotenuse).\n",
      "- The **hypotenuse** is the longest side, opposite the right angle.\n",
      "\n",
      "### On the Unit Circle:\n",
      "Cosine can also be defined using the **unit circle** (a circle with radius 1 centered at the origin):\n",
      "\n",
      "> For an angle θ measured from the positive x-axis, **cos(θ)** is the **x-coordinate** of the point where the terminal side of the angle intersects the unit circle.\n",
      "\n",
      "This definition extends cosine to **any angle**, not just those between 0° and 90°.\n",
      "\n",
      "### Key Properties:\n",
      "- **Range**: Cosine values always lie between **–1 and 1**.\n",
      "- **Periodicity**: Cosine is periodic with a period of **360°** (or **2π radians**), meaning cos(θ) = cos(θ + 360°).\n",
      "- **Even Function**: cos(–θ) = cos(θ).\n",
      "\n",
      "### Example:\n",
      "If θ = 60°, then  \n",
      "**cos(60°) = 0.5**\n",
      "\n",
      "This means that in a right triangle with a 60° angle, the length of the side adjacent to the 60° angle is half the length of the hypotenuse.\n",
      "\n",
      "Let me know if you'd like a visual explanation or how cosine is used in real-world applications!\n"
     ]
    }
   ],
   "source": [
    "# 创建带历史记录功能的处理链\n",
    "from langchain_core.runnables.history import RunnableWithMessageHistory\n",
    "\n",
    "chain_with_history = RunnableWithMessageHistory(\n",
    "    chain,\n",
    "    get_session_history,\n",
    "    input_messages_key=\"input\",\n",
    "    history_messages_key=\"history\",\n",
    ")\n",
    "\n",
    "res = chain_with_history.invoke(  # noqa: T201\n",
    "                {\"input\": \"What does cosine mean?\"},\n",
    "                config={\"configurable\": {\"session_id\": \"user123\"}}\n",
    "            )\n",
    "print(res.content)"
   ]
  },
  {
   "cell_type": "code",
   "execution_count": 14,
   "id": "93d116eb",
   "metadata": {},
   "outputs": [
    {
     "name": "stdout",
     "output_type": "stream",
     "text": [
      "The **inverse of the cosine function** is called the **arccosine** (or **inverse cosine**) function, and it's commonly written as:\n",
      "\n",
      "- **arccos(x)**\n",
      "- or **cos⁻¹(x)**  (note: this does *not* mean 1/cos(x)—that’s a common confusion!)\n",
      "\n",
      "---\n",
      "\n",
      "### What does it do?\n",
      "\n",
      "While the **cosine** function takes an **angle** and gives you a **ratio** (adjacent/hypotenuse), the **arccosine** does the reverse:\n",
      "\n",
      "> **arccos(ratio) = angle**\n",
      "\n",
      "So if you know the cosine of an angle, arccos tells you **what that angle is**.\n",
      "\n",
      "---\n",
      "\n",
      "### Example:\n",
      "\n",
      "You know that:  \n",
      "**cos(60°) = 0.5**\n",
      "\n",
      "Then:  \n",
      "**arccos(0.5) = 60°**  \n",
      "(or **π/3 radians**, if you're using radians)\n",
      "\n",
      "---\n",
      "\n",
      "### Domain and Range:\n",
      "\n",
      "Because cosine isn't one-to-one over all real numbers (it repeats), we **restrict its domain** to make the inverse well-defined.\n",
      "\n",
      "- **Domain of arccos(x):**  \n",
      "  \\( -1 \\leq x \\leq 1 \\)  \n",
      "  (because cosine only outputs values between –1 and 1)\n",
      "\n",
      "- **Range of arccos(x):**  \n",
      "  \\( 0 \\leq \\text{arccos}(x) \\leq \\pi \\) radians  \n",
      "  (or **0° to 180°**)  \n",
      "  This ensures it’s a function (one output per input).\n",
      "\n",
      "---\n",
      "\n",
      "### Real-World Use:\n",
      "Arccos is used in:\n",
      "- Finding angles in triangles (e.g., in navigation or engineering)\n",
      "- Computer graphics (calculating angles between vectors)\n",
      "- Physics (e.g., determining direction from components)\n",
      "\n",
      "---\n",
      "\n",
      "Let me know if you'd like to see how to calculate it, or how it looks on a graph!\n"
     ]
    }
   ],
   "source": [
    "res = chain_with_history.invoke(  # noqa: T201\n",
    "                {\"input\": \"What's its inverse\"},\n",
    "                config={\"configurable\": {\"session_id\": \"user123\"}}\n",
    "            )\n",
    "print(res.content)"
   ]
  },
  {
   "cell_type": "code",
   "execution_count": null,
   "id": "8cbe7a2e",
   "metadata": {},
   "outputs": [
    {
     "name": "stdout",
     "output_type": "stream",
     "text": [
      "4\n"
     ]
    }
   ],
   "source": [
    "# 修剪聊天上下文, 保留最近的n条消息，将之前的所有消息形成摘要\n",
    "def summarize_messages(cur_input):\n",
    "    session_id = cur_input['config']['configurable']['session_id']\n",
    "    if not session_id:\n",
    "        raise ValueError(\"session_id is required\")\n",
    "    chat_history = get_session_history(session_id)\n",
    "    stored_messages = chat_history.messages\n",
    "\n",
    "def trim_chat_history(chat_history: list, n: int = 5) -> list:\n",
    "    if len(chat_history) <= n:\n",
    "        return chat_history\n",
    "    return chat_history[-n:]\n"
   ]
  },
  {
   "cell_type": "code",
   "execution_count": null,
   "id": "d3a0824e",
   "metadata": {},
   "outputs": [],
   "source": []
  }
 ],
 "metadata": {
  "kernelspec": {
   "display_name": ".venv",
   "language": "python",
   "name": "python3"
  },
  "language_info": {
   "codemirror_mode": {
    "name": "ipython",
    "version": 3
   },
   "file_extension": ".py",
   "mimetype": "text/x-python",
   "name": "python",
   "nbconvert_exporter": "python",
   "pygments_lexer": "ipython3",
   "version": "3.12.9"
  }
 },
 "nbformat": 4,
 "nbformat_minor": 5
}
