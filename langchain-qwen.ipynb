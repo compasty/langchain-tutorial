{
 "cells": [
  {
   "cell_type": "code",
   "id": "initial_id",
   "metadata": {
    "collapsed": true,
    "ExecuteTime": {
     "end_time": "2025-06-21T06:59:09.334806Z",
     "start_time": "2025-06-21T06:59:03.469141Z"
    }
   },
   "source": [
    "from dotenv import load_dotenv\n",
    "from langchain_community.llms import Tongyi\n",
    "\n",
    "load_dotenv()\n",
    "llm = Tongyi()\n",
    "llm.invoke(\"What NFL team won the Super Bowl in the year Justin Bieber was born?\")"
   ],
   "outputs": [
    {
     "data": {
      "text/plain": [
       "\"Justin Bieber was born on **March 1, 1994**. To determine which NFL team won the Super Bowl that year, we need to look at the Super Bowl results for the 1993 season, as the Super Bowl is played in early February following the regular season.\\n\\nThe **Super Bowl XXVIII** was held on **January 30, 1994**, and the winner was the **Dallas Cowboys**, who defeated the **Buffalo Bills** with a score of **30-13**. This marked the Cowboys' second consecutive Super Bowl victory.\\n\\nSo, the **Dallas Cowboys** won the Super Bowl in the year Justin Bieber was born.\""
      ]
     },
     "execution_count": 2,
     "metadata": {},
     "output_type": "execute_result"
    }
   ],
   "execution_count": 2
  }
 ],
 "metadata": {
  "kernelspec": {
   "display_name": "Python 3",
   "language": "python",
   "name": "python3"
  },
  "language_info": {
   "codemirror_mode": {
    "name": "ipython",
    "version": 2
   },
   "file_extension": ".py",
   "mimetype": "text/x-python",
   "name": "python",
   "nbconvert_exporter": "python",
   "pygments_lexer": "ipython2",
   "version": "2.7.6"
  }
 },
 "nbformat": 4,
 "nbformat_minor": 5
}
