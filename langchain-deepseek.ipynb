{
 "cells": [
  {
   "cell_type": "code",
   "id": "initial_id",
   "metadata": {
    "collapsed": true,
    "ExecuteTime": {
     "end_time": "2025-06-21T06:22:28.602623Z",
     "start_time": "2025-06-21T06:22:24.272164Z"
    }
   },
   "source": [
    "import os\n",
    "from dotenv import load_dotenv\n",
    "from langchain_core.messages import SystemMessage, HumanMessage\n",
    "from langchain_core.prompts import ChatPromptTemplate\n",
    "from langchain_deepseek import ChatDeepSeek\n",
    "\n",
    "load_dotenv()\n",
    "\n",
    "llm = ChatDeepSeek(model=\"deepseek-chat\", temperature=0, max_tokens=None, timeout=None, max_retries=2)\n",
    "\n",
    "sys_msg = SystemMessage(\"You are a helpful assistant that translates English to French. Translate the user sentence\")\n",
    "messages = [sys_msg, HumanMessage(\"i love programming\")]\n",
    "ai_msg = llm.invoke(messages)\n",
    "ai_msg.content"
   ],
   "outputs": [
    {
     "data": {
      "text/plain": [
       "\"J'adore la programmation.\""
      ]
     },
     "execution_count": 5,
     "metadata": {},
     "output_type": "execute_result"
    }
   ],
   "execution_count": 5
  },
  {
   "metadata": {
    "ExecuteTime": {
     "end_time": "2025-06-21T06:23:33.023047Z",
     "start_time": "2025-06-21T06:23:22.693534Z"
    }
   },
   "cell_type": "code",
   "source": [
    "#  chaining\n",
    "prompt = ChatPromptTemplate(\n",
    "    [\n",
    "        (\"system\", \"You are a helpful assistant that can make poetries, and then translate into {output_language}\"),\n",
    "        (\"human\",\"{input}\")\n",
    "    ],\n",
    "\n",
    ")\n",
    "\n",
    "chain = prompt | llm\n",
    "chain.invoke({ \"output_language\": \"Chinese\", \"input\": \"moonlight\" })"
   ],
   "id": "e195e5252be5d7b6",
   "outputs": [
    {
     "data": {
      "text/plain": [
       "AIMessage(content='**Moonlight**  \\n\\nSilver whispers in the night,  \\nA gentle kiss of pale, soft light.  \\nThe world is bathed in quiet glow,  \\nWhere shadows dance and rivers flow.  \\n\\nA lover’s sigh, a dreamer’s tune,  \\nBeneath the watchful eye of the moon.  \\nIt paints the earth in shades of grace,  \\nA fleeting touch, a cool embrace.  \\n\\nOh, moonlight, pure and ever bright,  \\nGuard our dreams through the long, still night.  \\n\\n---  \\n\\n**月光**  \\n\\n银色的低语在夜中流淌，  \\n一抹温柔的吻，浅淡的光。  \\n世界沐浴在静谧的辉下，  \\n暗影起舞，河水轻淌。  \\n\\n恋人的叹息，梦者的歌谣，  \\n在月亮凝视下轻轻飘摇。  \\n它为大地抹上优雅的痕，  \\n短暂的触碰，清凉的拥抱。  \\n\\n啊，月光，纯净而恒久的光亮，  \\n守护我们的梦，在这悠长静夜中央。', additional_kwargs={'refusal': None}, response_metadata={'token_usage': {'completion_tokens': 208, 'prompt_tokens': 22, 'total_tokens': 230, 'completion_tokens_details': None, 'prompt_tokens_details': {'audio_tokens': None, 'cached_tokens': 0}, 'prompt_cache_hit_tokens': 0, 'prompt_cache_miss_tokens': 22}, 'model_name': 'deepseek-chat', 'system_fingerprint': 'fp_8802369eaa_prod0425fp8', 'id': '030b5ff4-0ab0-4d10-9628-7e496f70e221', 'service_tier': None, 'finish_reason': 'stop', 'logprobs': None}, id='run--eef969fd-b5fa-4c11-a398-e11657351544-0', usage_metadata={'input_tokens': 22, 'output_tokens': 208, 'total_tokens': 230, 'input_token_details': {'cache_read': 0}, 'output_token_details': {}})"
      ]
     },
     "execution_count": 7,
     "metadata": {},
     "output_type": "execute_result"
    }
   ],
   "execution_count": 7
  }
 ],
 "metadata": {
  "kernelspec": {
   "display_name": "Python 3",
   "language": "python",
   "name": "python3"
  },
  "language_info": {
   "codemirror_mode": {
    "name": "ipython",
    "version": 2
   },
   "file_extension": ".py",
   "mimetype": "text/x-python",
   "name": "python",
   "nbconvert_exporter": "python",
   "pygments_lexer": "ipython2",
   "version": "2.7.6"
  }
 },
 "nbformat": 4,
 "nbformat_minor": 5
}
