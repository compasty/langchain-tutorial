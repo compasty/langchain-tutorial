{
 "cells": [
  {
   "cell_type": "code",
   "id": "initial_id",
   "metadata": {
    "collapsed": true,
    "ExecuteTime": {
     "end_time": "2025-06-21T09:02:46.978563Z",
     "start_time": "2025-06-21T09:02:41.005254Z"
    }
   },
   "source": [
    "import os\n",
    "from dotenv import load_dotenv\n",
    "from langchain_core.messages import SystemMessage, HumanMessage\n",
    "from langchain_core.prompts import ChatPromptTemplate\n",
    "from langchain_deepseek import ChatDeepSeek\n",
    "\n",
    "load_dotenv()\n",
    "\n",
    "llm = ChatDeepSeek(model=\"deepseek-chat\", temperature=0, max_tokens=None, timeout=None, max_retries=2)\n",
    "\n",
    "sys_msg = SystemMessage(\"You are a helpful assistant that translates English to French. Translate the user sentence\")\n",
    "human_msg = HumanMessage(\"i love programming\")\n",
    "messages = [sys_msg, human_msg]\n",
    "ai_msg = llm.invoke(messages)\n",
    "ai_msg.content"
   ],
   "outputs": [
    {
     "data": {
      "text/plain": [
       "\"J'adore la programmation.\""
      ]
     },
     "execution_count": 2,
     "metadata": {},
     "output_type": "execute_result"
    }
   ],
   "execution_count": 2
  },
  {
   "metadata": {
    "ExecuteTime": {
     "end_time": "2025-06-21T09:02:57.711526Z",
     "start_time": "2025-06-21T09:02:46.993707Z"
    }
   },
   "cell_type": "code",
   "source": [
    "#  chaining\n",
    "prompt = ChatPromptTemplate(\n",
    "    [\n",
    "        (\"system\", \"You are a helpful assistant that can make poetries, and then translate into {output_language}\"),\n",
    "        (\"human\",\"{input}\")\n",
    "    ],\n",
    "\n",
    ")\n",
    "\n",
    "chain = prompt | llm\n",
    "chain.invoke({ \"output_language\": \"Chinese\", \"input\": \"moonlight\" })"
   ],
   "id": "e195e5252be5d7b6",
   "outputs": [
    {
     "data": {
      "text/plain": [
       "AIMessage(content='**Moonlight**  \\n\\nSilver whispers in the night,  \\nA gentle kiss of pale, soft light.  \\nThe world is bathed in quiet glow,  \\nWhere shadows dance and rivers flow.  \\n\\nA lover’s sigh, a dreamer’s tune,  \\nBeneath the watchful eye of the moon.  \\nIt paints the earth in shades of grace,  \\nA fleeting touch, a cool embrace.  \\n\\nOh, moonlight, pure and ever bright,  \\nGuard our dreams through endless night.  \\n\\n---  \\n\\n**月光**  \\n\\n夜的银辉轻轻低语，  \\n如一抹温柔的浅吻，淡淡的光缕。  \\n世界沐浴在静谧里，  \\n影子翩跹，河水轻移。  \\n\\n似情人的叹息，似梦者的旋律，  \\n在月亮凝视下悄然凝聚。  \\n它用优雅涂抹大地，  \\n如凉沁的拥抱，转瞬却清晰。  \\n\\n啊，月光，皎洁永恒，  \\n请守护长夜，让梦安宁。', additional_kwargs={'refusal': None}, response_metadata={'token_usage': {'completion_tokens': 201, 'prompt_tokens': 22, 'total_tokens': 223, 'completion_tokens_details': None, 'prompt_tokens_details': {'audio_tokens': None, 'cached_tokens': 0}, 'prompt_cache_hit_tokens': 0, 'prompt_cache_miss_tokens': 22}, 'model_name': 'deepseek-chat', 'system_fingerprint': 'fp_8802369eaa_prod0425fp8', 'id': 'e064fe09-a9f1-4bd5-be26-61b74f561ee2', 'service_tier': None, 'finish_reason': 'stop', 'logprobs': None}, id='run--6b69bbe2-3475-4cb7-b3e6-b59cecc9b185-0', usage_metadata={'input_tokens': 22, 'output_tokens': 201, 'total_tokens': 223, 'input_token_details': {'cache_read': 0}, 'output_token_details': {}})"
      ]
     },
     "execution_count": 3,
     "metadata": {},
     "output_type": "execute_result"
    }
   ],
   "execution_count": 3
  },
  {
   "metadata": {
    "ExecuteTime": {
     "end_time": "2025-06-21T09:03:00.298382Z",
     "start_time": "2025-06-21T09:02:57.729247Z"
    }
   },
   "cell_type": "code",
   "source": [
    "# streaming output\n",
    "for token in llm.stream(messages):\n",
    "    print(token.content, end=\"|\")"
   ],
   "id": "a85e2d9dc3cfd5d1",
   "outputs": [
    {
     "name": "stdout",
     "output_type": "stream",
     "text": [
      "|J|'ad|ore| la| program|mation|.||"
     ]
    }
   ],
   "execution_count": 4
  },
  {
   "metadata": {
    "ExecuteTime": {
     "end_time": "2025-06-21T13:02:28.430959Z",
     "start_time": "2025-06-21T13:02:28.421680Z"
    }
   },
   "cell_type": "code",
   "source": [
    "# document loaders\n",
    "from langchain_core.documents import Document\n",
    "\n",
    "documents = [\n",
    "    Document(\n",
    "        page_content=\"Dogs are great companions, known for their loyalty and friendliness.\",\n",
    "        metadata={\"source\": \"mammal-pets-doc\"},\n",
    "    ),\n",
    "    Document(\n",
    "        page_content=\"Cats are independent pets that often enjoy their own space.\",\n",
    "        metadata={\"source\": \"mammal-pets-doc\"},\n",
    "    ),\n",
    "]"
   ],
   "id": "bfc34a2775df730a",
   "outputs": [],
   "execution_count": 5
  },
  {
   "metadata": {
    "ExecuteTime": {
     "end_time": "2025-06-21T13:02:41.765250Z",
     "start_time": "2025-06-21T13:02:31.893794Z"
    }
   },
   "cell_type": "code",
   "source": [
    "# 将pdf加载到`Document`序列中\n",
    "from langchain_community.document_loaders import PyPDFLoader\n",
    "\n",
    "file_path = \"docs/nke-10k-2023.pdf\"\n",
    "loader = PyPDFLoader(file_path)\n",
    "\n",
    "docs = loader.load()\n",
    "\n",
    "print(len(docs))"
   ],
   "id": "27e214f1b2855b6f",
   "outputs": [
    {
     "name": "stdout",
     "output_type": "stream",
     "text": [
      "107\n"
     ]
    }
   ],
   "execution_count": 6
  },
  {
   "metadata": {
    "ExecuteTime": {
     "end_time": "2025-06-21T13:09:38.075888Z",
     "start_time": "2025-06-21T13:09:38.071403Z"
    }
   },
   "cell_type": "code",
   "source": [
    "print(f\"{docs[0].page_content[:200]}\\n\")\n",
    "print(docs[0].metadata)"
   ],
   "id": "372afe2d4b14b0cb",
   "outputs": [
    {
     "name": "stdout",
     "output_type": "stream",
     "text": [
      "Table of Contents\n",
      "UNITED STATES\n",
      "SECURITIES AND EXCHANGE COMMISSION\n",
      "Washington, D.C. 20549\n",
      "FORM 10-K\n",
      "(Mark One)\n",
      "☑  ANNUAL REPORT PURSUANT TO SECTION 13 OR 15(D) OF THE SECURITIES EXCHANGE ACT OF 1934\n",
      "F\n",
      "\n",
      "{'producer': 'EDGRpdf Service w/ EO.Pdf 22.0.40.0', 'creator': 'EDGAR Filing HTML Converter', 'creationdate': '2023-07-20T16:22:00-04:00', 'title': '0000320187-23-000039', 'author': 'EDGAR Online, a division of Donnelley Financial Solutions', 'subject': 'Form 10-K filed on 2023-07-20 for the period ending 2023-05-31', 'keywords': '0000320187-23-000039; ; 10-K', 'moddate': '2023-07-20T16:22:08-04:00', 'source': 'docs/nke-10k-2023.pdf', 'total_pages': 107, 'page': 0, 'page_label': '1'}\n"
     ]
    }
   ],
   "execution_count": 7
  }
 ],
 "metadata": {
  "kernelspec": {
   "display_name": "Python 3",
   "language": "python",
   "name": "python3"
  },
  "language_info": {
   "codemirror_mode": {
    "name": "ipython",
    "version": 2
   },
   "file_extension": ".py",
   "mimetype": "text/x-python",
   "name": "python",
   "nbconvert_exporter": "python",
   "pygments_lexer": "ipython2",
   "version": "2.7.6"
  }
 },
 "nbformat": 4,
 "nbformat_minor": 5
}
