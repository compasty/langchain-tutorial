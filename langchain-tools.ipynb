{
 "cells": [
  {
   "cell_type": "code",
   "id": "initial_id",
   "metadata": {
    "collapsed": true,
    "ExecuteTime": {
     "end_time": "2025-06-21T08:25:26.420838Z",
     "start_time": "2025-06-21T08:25:23.660753Z"
    }
   },
   "source": [
    "import os\n",
    "from dotenv import load_dotenv\n",
    "from langchain_tavily import TavilySearch\n",
    "\n",
    "load_dotenv(override=True)\n",
    "web_search = TavilySearch(name=\"tavily_search\", max_results=10)\n",
    "web_search.invoke(\"What is hilbert space?\")"
   ],
   "outputs": [
    {
     "data": {
      "text/plain": [
       "{'query': 'What is hilbert space?',\n",
       " 'follow_up_questions': None,\n",
       " 'answer': None,\n",
       " 'images': [],\n",
       " 'results': [{'title': 'Hilbert space - Simple English Wikipedia, the free encyclopedia',\n",
       "   'url': 'https://simple.wikipedia.org/wiki/Hilbert_space',\n",
       "   'content': 'A Hilbert space is a mathematical concept covering the extra-dimensional use of Euclidean space in more than three dimensions. A Hilbert space uses the mathematics of two and three dimensions to describe outcomes in more than three dimensions. It is named after David Hilbert.',\n",
       "   'score': 0.9640551,\n",
       "   'raw_content': None},\n",
       "  {'title': 'What Is Hilbert Space? - ScienceABC',\n",
       "   'url': 'https://www.scienceabc.com/pure-sciences/what-is-a-hilbert-space.html',\n",
       "   'content': 'Hilbert space is a linear space with an operation of the inner product, i.e. scalar product, and is similar to the metric space in totality. The various wave functions in quantum mechanics that describe the states of quantum particles live in Hilbert space. It is a fusion of algebra, topology and geometry.',\n",
       "   'score': 0.9481979,\n",
       "   'raw_content': None},\n",
       "  {'title': 'Hilbert Space | Brilliant Math & Science Wiki',\n",
       "   'url': 'https://brilliant.org/wiki/hilbert-space/',\n",
       "   'content': 'A Hilbert space is a vector space \\\\(V\\\\) equipped with an inner product, which can be thought of as a generalization of the dot product in Euclidean space, with the additional property that the metric coming from the inner product makes \\\\( V\\\\) into a complete metric space. The basic example of a Hilbert space is \\\\( {\\\\mathbb R}^n\\\\) \\\\(\\\\big(\\\\)or',\n",
       "   'score': 0.94761914,\n",
       "   'raw_content': None},\n",
       "  {'title': 'Hilbert Space -- from Wolfram MathWorld',\n",
       "   'url': 'https://mathworld.wolfram.com/HilbertSpace.html',\n",
       "   'content': 'A Hilbert space is a vector space H with an inner product  such that the norm defined by |f|=sqrt() turns H into a complete metric space. If the metric defined by the norm is not complete, then H is instead known as an inner product space. Examples of finite-dimensional Hilbert spaces include 1. The real numbers R^n with  the vector dot product of v and u.',\n",
       "   'score': 0.9470345,\n",
       "   'raw_content': None},\n",
       "  {'title': 'ELI5: What is Hilbert space? : r/learnmath - Reddit',\n",
       "   'url': 'https://www.reddit.com/r/learnmath/comments/p4rzld/eli5_what_is_hilbert_space/',\n",
       "   'content': \"A Hilbert space is a complete inner product space. That's it. What this means is that it's a vector space V with an inner product g(-,-) on it (and hence a norm) such that V is complete as a metric space with the metric induced by g. If you're working over a usual field,\",\n",
       "   'score': 0.9341134,\n",
       "   'raw_content': None},\n",
       "  {'title': 'Hilbert Space. What is a Hilbert Space? This term pops… | by Somnath ...',\n",
       "   'url': 'https://medium.com/@brcsomnath/hilbert-space-7a36e3badac2',\n",
       "   'content': 'Hilbert Space is an inner product space which satisfies completeness. The additional structure that makes it complete is the introduction of a defined distance function.',\n",
       "   'score': 0.9168945,\n",
       "   'raw_content': None},\n",
       "  {'title': 'Hilbert space - Wikipedia',\n",
       "   'url': 'https://en.wikipedia.org/wiki/Hilbert_space',\n",
       "   'content': 'One of the most familiar examples of a Hilbert space is the Euclidean vector space consisting of three-dimensional vectors, denoted by R 3, and equipped with the dot product.The dot product takes two vectors x and y, and produces a real number x ⋅ y.If x and y are represented in Cartesian coordinates, then the dot product is defined by () = + +.. The dot product satisfies the properties [1]',\n",
       "   'score': 0.9138076,\n",
       "   'raw_content': None},\n",
       "  {'title': 'Hilbert space | Linear operators, Banach spaces, Inner product - Britannica',\n",
       "   'url': 'https://www.britannica.com/science/Hilbert-space',\n",
       "   'content': 'Hilbert space, in mathematics, an example of an infinite-dimensional space that had a major impact in analysis and topology.The German mathematician David Hilbert first described this space in his work on integral equations and Fourier series, which occupied his attention during the period 1902-12.. The points of Hilbert space are infinite sequences (x 1, x 2, x 3, …) of real numbers that',\n",
       "   'score': 0.87113565,\n",
       "   'raw_content': None},\n",
       "  {'title': 'What is the purpose of defining a Hilbert Space?',\n",
       "   'url': 'https://math.stackexchange.com/questions/2175218/what-is-the-purpose-of-defining-a-hilbert-space',\n",
       "   'content': 'As people have mentioned in the comments and in the other answer, the process of checking that a given space really does satisfy the definition of a Hilbert space is both important and non-trivial. Not every infinite dimensional inner-product space is a Hilbert space, and if you try to apply Hilbert space theorems to non-Hilbert spaces, you can',\n",
       "   'score': 0.68723184,\n",
       "   'raw_content': None},\n",
       "  {'title': 'PDF',\n",
       "   'url': 'https://sites.math.washington.edu/~farbod/teaching/cornell/math6210pdf/math6210Hilbert.pdf',\n",
       "   'content': '4.2 Orthogonal decomposition and Riesz representation From Bessel’s inequality, we know Pn k=1 |⟨x , xk⟩|2 ≤||x||2, if we let n to be ∞, we have P∞ k=1 |⟨x , xk⟩|2 ≤||x||2, thus limn→∞|⟨x , xn⟩| = 0, and for any n, let f(x) = ⟨x , xn⟩, we can see f(x) is a bounded linear function in inner product space E. Deﬁnition 4.2(Complete orthonormal sequence) An orthonormal sequence {xn} in an inner product space E is said to be complete if for every x ∈E we have x = P∞ n=1⟨x , xn⟩xn In the beginning of this section, I recall the basic properties of our ”bricks”– basis in lin-ear vector space, and we also want to extend the properties of basis in inﬁnite dimensional space.',\n",
       "   'score': 0.039405376,\n",
       "   'raw_content': None}],\n",
       " 'response_time': 1.58}"
      ]
     },
     "execution_count": 24,
     "metadata": {},
     "output_type": "execute_result"
    }
   ],
   "execution_count": 24
  },
  {
   "metadata": {
    "ExecuteTime": {
     "end_time": "2025-06-21T08:29:50.318465Z",
     "start_time": "2025-06-21T08:29:50.314465Z"
    }
   },
   "cell_type": "code",
   "source": [
    "from langchain_community.document_loaders.firecrawl import FireCrawlLoader\n",
    "loader = FireCrawlLoader(url=\"https://www.sina.com\", mode=\"scrape\")"
   ],
   "id": "fa10be6737669782",
   "outputs": [],
   "execution_count": 29
  },
  {
   "metadata": {
    "ExecuteTime": {
     "end_time": "2025-06-21T08:29:57.672628Z",
     "start_time": "2025-06-21T08:29:57.108951Z"
    }
   },
   "cell_type": "code",
   "source": [
    "pages = []\n",
    "for doc in loader.lazy_load():\n",
    "    pages.append(doc)\n",
    "pages"
   ],
   "id": "c2f84ed77b0c14cc",
   "outputs": [
    {
     "ename": "HTTPError",
     "evalue": "Unexpected error during scrape URL: Status code 400. Bad Request - [{'code': 'unrecognized_keys', 'keys': ['params'], 'path': [], 'message': 'Unrecognized key in body -- please review the v1 API documentation for request body changes'}]",
     "output_type": "error",
     "traceback": [
      "\u001B[31m---------------------------------------------------------------------------\u001B[39m",
      "\u001B[31mHTTPError\u001B[39m                                 Traceback (most recent call last)",
      "\u001B[36mCell\u001B[39m\u001B[36m \u001B[39m\u001B[32mIn[30]\u001B[39m\u001B[32m, line 2\u001B[39m\n\u001B[32m      1\u001B[39m pages = []\n\u001B[32m----> \u001B[39m\u001B[32m2\u001B[39m \u001B[38;5;28;43;01mfor\u001B[39;49;00m\u001B[43m \u001B[49m\u001B[43mdoc\u001B[49m\u001B[43m \u001B[49m\u001B[38;5;129;43;01min\u001B[39;49;00m\u001B[43m \u001B[49m\u001B[43mloader\u001B[49m\u001B[43m.\u001B[49m\u001B[43mlazy_load\u001B[49m\u001B[43m(\u001B[49m\u001B[43m)\u001B[49m\u001B[43m:\u001B[49m\n\u001B[32m      3\u001B[39m \u001B[43m    \u001B[49m\u001B[43mpages\u001B[49m\u001B[43m.\u001B[49m\u001B[43mappend\u001B[49m\u001B[43m(\u001B[49m\u001B[43mdoc\u001B[49m\u001B[43m)\u001B[49m\n\u001B[32m      4\u001B[39m pages\n",
      "\u001B[36mFile \u001B[39m\u001B[32mC:\\workspace\\python_workspace\\langchain-tutorial\\.venv\\Lib\\site-packages\\langchain_community\\document_loaders\\firecrawl.py:275\u001B[39m, in \u001B[36mFireCrawlLoader.lazy_load\u001B[39m\u001B[34m(self)\u001B[39m\n\u001B[32m    272\u001B[39m \u001B[38;5;28;01mdef\u001B[39;00m\u001B[38;5;250m \u001B[39m\u001B[34mlazy_load\u001B[39m(\u001B[38;5;28mself\u001B[39m) -> Iterator[Document]:\n\u001B[32m    273\u001B[39m     \u001B[38;5;28;01mif\u001B[39;00m \u001B[38;5;28mself\u001B[39m.mode == \u001B[33m\"\u001B[39m\u001B[33mscrape\u001B[39m\u001B[33m\"\u001B[39m:\n\u001B[32m    274\u001B[39m         firecrawl_docs = [\n\u001B[32m--> \u001B[39m\u001B[32m275\u001B[39m             \u001B[38;5;28;43mself\u001B[39;49m\u001B[43m.\u001B[49m\u001B[43mfirecrawl\u001B[49m\u001B[43m.\u001B[49m\u001B[43mscrape_url\u001B[49m\u001B[43m(\u001B[49m\n\u001B[32m    276\u001B[39m \u001B[43m                \u001B[49m\u001B[38;5;28;43mself\u001B[39;49m\u001B[43m.\u001B[49m\u001B[43murl\u001B[49m\u001B[43m,\u001B[49m\u001B[43m \u001B[49m\u001B[43mparams\u001B[49m\u001B[43m=\u001B[49m\u001B[38;5;28;43mself\u001B[39;49m\u001B[43m.\u001B[49m\u001B[43mlegacy_scrape_options_adapter\u001B[49m\u001B[43m(\u001B[49m\u001B[38;5;28;43mself\u001B[39;49m\u001B[43m.\u001B[49m\u001B[43mparams\u001B[49m\u001B[43m)\u001B[49m\n\u001B[32m    277\u001B[39m \u001B[43m            \u001B[49m\u001B[43m)\u001B[49m\n\u001B[32m    278\u001B[39m         ]\n\u001B[32m    279\u001B[39m     \u001B[38;5;28;01melif\u001B[39;00m \u001B[38;5;28mself\u001B[39m.mode == \u001B[33m\"\u001B[39m\u001B[33mcrawl\u001B[39m\u001B[33m\"\u001B[39m:\n\u001B[32m    280\u001B[39m         \u001B[38;5;28;01mif\u001B[39;00m \u001B[38;5;129;01mnot\u001B[39;00m \u001B[38;5;28mself\u001B[39m.url:\n",
      "\u001B[36mFile \u001B[39m\u001B[32mC:\\workspace\\python_workspace\\langchain-tutorial\\.venv\\Lib\\site-packages\\firecrawl\\firecrawl.py:587\u001B[39m, in \u001B[36mFirecrawlApp.scrape_url\u001B[39m\u001B[34m(self, url, formats, include_tags, exclude_tags, only_main_content, wait_for, timeout, location, mobile, skip_tls_verification, remove_base64_images, block_ads, proxy, extract, json_options, actions, change_tracking_options, max_age, store_in_cache, **kwargs)\u001B[39m\n\u001B[32m    585\u001B[39m         \u001B[38;5;28;01mraise\u001B[39;00m \u001B[38;5;167;01mException\u001B[39;00m(\u001B[33m'\u001B[39m\u001B[33mFailed to parse Firecrawl response as JSON.\u001B[39m\u001B[33m'\u001B[39m)\n\u001B[32m    586\u001B[39m \u001B[38;5;28;01melse\u001B[39;00m:\n\u001B[32m--> \u001B[39m\u001B[32m587\u001B[39m     \u001B[38;5;28;43mself\u001B[39;49m\u001B[43m.\u001B[49m\u001B[43m_handle_error\u001B[49m\u001B[43m(\u001B[49m\u001B[43mresponse\u001B[49m\u001B[43m,\u001B[49m\u001B[43m \u001B[49m\u001B[33;43m'\u001B[39;49m\u001B[33;43mscrape URL\u001B[39;49m\u001B[33;43m'\u001B[39;49m\u001B[43m)\u001B[49m\n",
      "\u001B[36mFile \u001B[39m\u001B[32mC:\\workspace\\python_workspace\\langchain-tutorial\\.venv\\Lib\\site-packages\\firecrawl\\firecrawl.py:2271\u001B[39m, in \u001B[36mFirecrawlApp._handle_error\u001B[39m\u001B[34m(self, response, action)\u001B[39m\n\u001B[32m   2268\u001B[39m message = \u001B[38;5;28mself\u001B[39m._get_error_message(response.status_code, action, error_message, error_details)\n\u001B[32m   2270\u001B[39m \u001B[38;5;66;03m# Raise an HTTPError with the custom message and attach the response\u001B[39;00m\n\u001B[32m-> \u001B[39m\u001B[32m2271\u001B[39m \u001B[38;5;28;01mraise\u001B[39;00m requests.exceptions.HTTPError(message, response=response)\n",
      "\u001B[31mHTTPError\u001B[39m: Unexpected error during scrape URL: Status code 400. Bad Request - [{'code': 'unrecognized_keys', 'keys': ['params'], 'path': [], 'message': 'Unrecognized key in body -- please review the v1 API documentation for request body changes'}]"
     ]
    }
   ],
   "execution_count": 30
  }
 ],
 "metadata": {
  "kernelspec": {
   "display_name": "Python 3",
   "language": "python",
   "name": "python3"
  },
  "language_info": {
   "codemirror_mode": {
    "name": "ipython",
    "version": 2
   },
   "file_extension": ".py",
   "mimetype": "text/x-python",
   "name": "python",
   "nbconvert_exporter": "python",
   "pygments_lexer": "ipython2",
   "version": "2.7.6"
  }
 },
 "nbformat": 4,
 "nbformat_minor": 5
}
