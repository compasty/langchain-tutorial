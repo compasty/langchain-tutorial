{
 "cells": [
  {
   "cell_type": "code",
   "id": "initial_id",
   "metadata": {
    "collapsed": true,
    "ExecuteTime": {
     "end_time": "2025-06-21T07:12:11.759777Z",
     "start_time": "2025-06-21T07:11:54.488063Z"
    }
   },
   "source": [
    "# build a deepsearch demo based on deepseek reasoning model and tavily API\n",
    "import os\n",
    "from dotenv import load_dotenv\n",
    "from langchain_core.messages import SystemMessage, HumanMessage\n",
    "from langchain_core.prompts import ChatPromptTemplate\n",
    "from langchain_deepseek import ChatDeepSeek\n",
    "\n",
    "load_dotenv()\n",
    "\n",
    "llm = ChatDeepSeek(model=\"deepseek-reasoner\", temperature=0, max_tokens=None, timeout=None, max_retries=2)\n",
    "# llm.invoke(\"你好\").content"
   ],
   "outputs": [
    {
     "data": {
      "text/plain": [
       "'你好！😊很高兴见到你～  \\n有什么我可以帮你的吗？无论是解答问题、查资料，还是陪你聊聊，我都在这里随时待命～  \\n期待你的消息！✨'"
      ]
     },
     "execution_count": 1,
     "metadata": {},
     "output_type": "execute_result"
    }
   ],
   "execution_count": 1
  }
 ],
 "metadata": {
  "kernelspec": {
   "display_name": "Python 3",
   "language": "python",
   "name": "python3"
  },
  "language_info": {
   "codemirror_mode": {
    "name": "ipython",
    "version": 2
   },
   "file_extension": ".py",
   "mimetype": "text/x-python",
   "name": "python",
   "nbconvert_exporter": "python",
   "pygments_lexer": "ipython2",
   "version": "2.7.6"
  }
 },
 "nbformat": 4,
 "nbformat_minor": 5
}
