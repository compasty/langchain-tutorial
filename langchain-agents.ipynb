{
 "cells": [
  {
   "cell_type": "code",
   "id": "initial_id",
   "metadata": {
    "collapsed": true,
    "ExecuteTime": {
     "end_time": "2025-06-24T09:47:11.411721Z",
     "start_time": "2025-06-24T09:46:30.963061Z"
    }
   },
   "source": [
    "from dotenv import load_dotenv\n",
    "from langchain_community.llms import Tongyi\n",
    "\n",
    "load_dotenv()\n",
    "llm = Tongyi()\n",
    "llm.invoke(\"什么是傅里叶变换？\")"
   ],
   "outputs": [
    {
     "data": {
      "text/plain": [
       "\"傅里叶变换（Fourier Transform）是一种重要的数学工具，用于将一个函数或信号从**时域**（时间域）转换到**频域**（频率域）。它的核心思想是：**任何复杂的信号都可以表示为多个不同频率的正弦和余弦函数的叠加。**\\n\\n---\\n\\n## 一、基本思想\\n\\n傅里叶变换的基本思想是：\\n\\n> **“一个满足一定条件的函数可以表示成一系列复指数函数（或正弦/余弦函数）的积分或求和。”**\\n\\n换句话说：\\n- 如果你有一个随时间变化的信号（比如声音、图像、温度变化等），傅里叶变换可以帮助你分析这个信号中包含哪些频率成分。\\n- 它告诉你：在原始信号中，各个频率的能量有多大。\\n\\n---\\n\\n## 二、常见的几种傅里叶变换形式\\n\\n根据输入信号的类型（连续还是离散、周期还是非周期），有以下几种常见形式：\\n\\n| 类型 | 输入信号 | 输出信号 | 名称 |\\n|------|-----------|------------|------|\\n| 连续、非周期 | 时间连续、非周期 | 频率连续、非周期 | **傅里叶变换（FT）** |\\n| 连续、周期 | 时间连续、周期 | 频率离散、非周期 | **傅里叶级数（FS）** |\\n| 离散、非周期 | 时间离散、非周期 | 频率连续、周期 | **离散时间傅里叶变换（DTFT）** |\\n| 离散、周期 | 时间离散、周期 | 频率离散、周期 | **离散傅里叶变换（DFT）** |\\n| 快速算法 | DFT 的高效实现 | - | **快速傅里叶变换（FFT）** |\\n\\n---\\n\\n## 三、数学定义（以最常用的傅里叶变换为例）\\n\\n### 1. 连续傅里叶变换（CTFT）\\n\\n给定一个连续函数 $ f(t) $，其傅里叶变换 $ F(\\\\omega) $ 定义为：\\n\\n$$\\nF(\\\\omega) = \\\\int_{-\\\\infty}^{\\\\infty} f(t) e^{-j\\\\omega t} dt\\n$$\\n\\n其中：\\n- $ t $ 是时间变量，\\n- $ \\\\omega $ 是角频率（单位是弧度/秒），\\n- $ j = \\\\sqrt{-1} $ 是虚数单位，\\n- $ e^{-j\\\\omega t} $ 表示复指数函数，包含了正弦和余弦分量。\\n\\n### 2. 傅里叶逆变换：\\n\\n从频域恢复回时域：\\n\\n$$\\nf(t) = \\\\frac{1}{2\\\\pi} \\\\int_{-\\\\infty}^{\\\\infty} F(\\\\omega) e^{j\\\\omega t} d\\\\omega\\n$$\\n\\n---\\n\\n## 四、直观理解\\n\\n想象你在听一首歌，这首歌是一个复杂的声音波形。傅里叶变换就像是一台“频率筛选器”，它可以把这首歌分解成无数个音符（每个音符有不同的频率、振幅和相位）。\\n\\n你可以把它看作是：\\n- **把音乐拆解成各个音高**\\n- **把光谱分解成不同颜色**\\n- **把图像分解成不同空间频率成分**\\n\\n---\\n\\n## 五、应用领域\\n\\n傅里叶变换在科学和工程中有着极其广泛的应用，例如：\\n\\n- **信号处理**：语音识别、音频压缩（如MP3）、滤波器设计\\n- **图像处理**：JPEG压缩、图像增强、边缘检测\\n- **通信系统**：调制解调、信道分析\\n- **物理学**：量子力学、波动方程求解\\n- **数据分析**：频谱分析、时间序列预测\\n\\n---\\n\\n## 六、一个简单的例子（用Python可视化）\\n\\n```python\\nimport numpy as np\\nimport matplotlib.pyplot as plt\\n\\n# 构造一个合成信号\\nfs = 1000  # 采样率\\nt = np.linspace(0, 1, fs)\\nf1, f2 = 5, 50  # 两个频率成分\\nsignal = np.sin(2*np.pi*f1*t) + 0.5*np.sin(2*np.pi*f2*t)\\n\\n# 傅里叶变换\\nfft_result = np.fft.fft(signal)\\nfreqs = np.fft.fftfreq(len(signal), 1/fs)\\n\\n# 只显示前半部分（对称）\\nplt.plot(freqs[:len(freqs)//2], np.abs(fft_result)[:len(freqs)//2])\\nplt.xlabel('Frequency (Hz)')\\nplt.ylabel('Magnitude')\\nplt.title('Frequency Spectrum')\\nplt.grid()\\nplt.show()\\n```\\n\\n这段代码会画出一个频谱图，显示出信号中含有的两个主要频率成分：5 Hz 和 50 Hz。\\n\\n---\\n\\n## 七、总结一句话：\\n\\n> **傅里叶变换就是把一个信号从“时间 vs 幅度”的视角，转换成“频率 vs 幅度”的视角。**\\n\\n如果你需要更深入的解释（比如物理意义、数学推导、应用场景），欢迎继续提问！\""
      ]
     },
     "execution_count": 3,
     "metadata": {},
     "output_type": "execute_result"
    }
   ],
   "execution_count": 3
  }
 ],
 "metadata": {
  "kernelspec": {
   "display_name": "Python 3",
   "language": "python",
   "name": "python3"
  },
  "language_info": {
   "codemirror_mode": {
    "name": "ipython",
    "version": 2
   },
   "file_extension": ".py",
   "mimetype": "text/x-python",
   "name": "python",
   "nbconvert_exporter": "python",
   "pygments_lexer": "ipython2",
   "version": "2.7.6"
  }
 },
 "nbformat": 4,
 "nbformat_minor": 5
}
